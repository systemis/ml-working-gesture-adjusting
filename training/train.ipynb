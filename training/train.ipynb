{
 "cells": [
  {
   "cell_type": "code",
   "execution_count": null,
   "id": "4d767c5d",
   "metadata": {},
   "outputs": [],
   "source": [
    "import numpy as np\n",
    "import tensorflow as tf\n",
    "import tensorflowjs as tfjs\n",
    "from tensorflow import keras\n",
    "from tensorflow.keras.layers.experimental import preprocessing\n",
    "from tensorflow.keras import layers\n",
    "import seaborn as sns\n",
    "import matplotlib.pyplot as plt\n",
    "sns.set()"
   ]
  },
  {
   "cell_type": "code",
   "execution_count": null,
   "id": "2bb5d8ae",
   "metadata": {
    "tags": []
   },
   "outputs": [],
   "source": [
    "train_ds = keras.preprocessing.image_dataset_from_directory('data/train', batch_size=8, image_size=(128, 128))\n",
    "val_ds = keras.preprocessing.image_dataset_from_directory('data/val', batch_size=8, image_size=(128, 128))\n",
    "\n",
    "preprocessing_train = tf.keras.Sequential([\n",
    "    layers.experimental.preprocessing.Rescaling(1./255),\n",
    "    layers.experimental.preprocessing.RandomFlip(\"horizontal\"),\n",
    "    tf.keras.layers.experimental.preprocessing.RandomContrast(0.5),\n",
    "    \n",
    "])\n",
    "\n",
    "preprocessing_val = tf.keras.Sequential([\n",
    "    layers.experimental.preprocessing.Rescaling(1./255),\n",
    "])\n",
    "\n",
    "train_ds = train_ds.map(lambda x, y: (preprocessing_train(x), y))\n",
    "val_ds = val_ds.map(lambda x, y: (preprocessing_val(x), y))\n",
    "\n",
    "x, y = next(iter(train_ds))\n",
    "print(x.shape, y)\n",
    "\n",
    "plt.figure(figsize=(10, 10))\n",
    "for i in range(8):\n",
    "    image = x[i]\n",
    "    ax = plt.subplot(3, 3, i + 1)\n",
    "    plt.imshow(image)\n",
    "    plt.axis(\"off\")"
   ]
  },
  {
   "cell_type": "code",
   "execution_count": null,
   "id": "991045fd",
   "metadata": {},
   "outputs": [],
   "source": [
    "inputs = keras.Input(shape=(128, 128, 3))\n",
    "x = layers.Conv2D(filters=16, kernel_size=(3, 3), activation=\"relu\")(inputs)\n",
    "x = layers.MaxPooling2D(pool_size=(3, 3))(x)\n",
    "x = layers.Conv2D(filters=16, kernel_size=(3, 3), activation=\"relu\")(x)\n",
    "x = layers.MaxPooling2D(pool_size=(3, 3))(x)\n",
    "x = layers.Conv2D(filters=16, kernel_size=(3, 3), activation=\"relu\")(x)\n",
    "x = layers.MaxPooling2D(pool_size=(3, 3))(x)\n",
    "x = layers.Conv2D(filters=16, kernel_size=(3, 3), activation=\"relu\")(x)\n",
    "x = layers.Flatten()(x)\n",
    "outputs = layers.Dense(1, activation='sigmoid')(x)\n",
    "\n",
    "model = keras.Model(inputs=inputs, outputs=outputs)\n",
    "model.compile(optimizer=keras.optimizers.Adam(learning_rate=3e-4), loss='binary_crossentropy')\n",
    "\n",
    "model.summary()"
   ]
  },
  {
   "cell_type": "code",
   "execution_count": null,
   "id": "52e78131",
   "metadata": {
    "tags": []
   },
   "outputs": [],
   "source": [
    "model.fit(train_ds, validation_data=val_ds, epochs=35)"
   ]
  },
  {
   "cell_type": "code",
   "execution_count": null,
   "id": "9cf07514",
   "metadata": {},
   "outputs": [],
   "source": [
    "tfjs.converters.save_keras_model(model, '../posture-tracker-app/model/model')"
   ]
  },
  {
   "cell_type": "code",
   "execution_count": null,
   "id": "1859b1a2",
   "metadata": {},
   "outputs": [],
   "source": [
    "y_all, y_pred_all = [], []\n",
    "for x, y in val_ds:\n",
    "    y_pred = model.predict(x)\n",
    "    y_all.append(y)\n",
    "    y_pred_all.append(y_pred)\n",
    "    print(f'label: {y}')\n",
    "    print(f'prediction: {y_pred}')\n",
    "y_all = np.concatenate(y_all).astype(np.float32)\n",
    "y_pred_all = np.concatenate(y_pred_all)[:, 0]\n",
    "\n",
    "sns.violinplot(x=y_all, y=y_pred_all)"
   ]
  },
  {
   "cell_type": "code",
   "execution_count": null,
   "id": "fd9072ff",
   "metadata": {},
   "outputs": [],
   "source": [
    "with tf.GradientTape() as tape:\n",
    "    tape.watch(x)\n",
    "    y = model(x)\n",
    "    # y_logit = tf.math.log(y / (1 - y))\n",
    "    grad = tape.gradient(y, x)"
   ]
  },
  {
   "cell_type": "code",
   "execution_count": null,
   "id": "c9c39744",
   "metadata": {},
   "outputs": [],
   "source": [
    "for i, (image, grad_image) in enumerate(zip(x, grad)):\n",
    "    plt.figure(figsize=(10, 10))\n",
    "    ax = plt.subplot(1, 2, 1)\n",
    "    plt.imshow(image)\n",
    "    plt.axis(\"off\")\n",
    "    ax = plt.subplot(1, 2, 2)\n",
    "    plt.imshow(0.5 + grad_image * 50)\n",
    "    plt.axis(\"off\")"
   ]
  },
  {
   "cell_type": "code",
   "execution_count": null,
   "id": "dccbf287",
   "metadata": {},
   "outputs": [],
   "source": []
  }
 ],
 "metadata": {
  "kernelspec": {
   "display_name": "Python 3",
   "language": "python",
   "name": "python3"
  },
  "language_info": {
   "codemirror_mode": {
    "name": "ipython",
    "version": 3
   },
   "file_extension": ".py",
   "mimetype": "text/x-python",
   "name": "python",
   "nbconvert_exporter": "python",
   "pygments_lexer": "ipython3",
   "version": "3.8.5"
  },
  "metadata": {
   "interpreter": {
    "hash": "2f53ab63e95d34222b9541777a2a11e3faeac671ebf05f5f7ddff4e0d94fe243"
   }
  }
 },
 "nbformat": 4,
 "nbformat_minor": 5
}
